{
 "cells": [
  {
   "cell_type": "markdown",
   "id": "c348ecf9",
   "metadata": {},
   "source": [
    "# Temporal Shift Detection in ICU Patient Data\n"
   ]
  },
  {
   "cell_type": "code",
   "execution_count": 24,
   "id": "788f62d1",
   "metadata": {},
   "outputs": [],
   "source": [
    "import pandas as pd\n",
    "import numpy as np\n",
    "import seaborn as sns\n",
    "import matplotlib.pyplot as plt\n",
    "from scipy.stats import ks_2samp\n",
    "from pathlib import Path\n",
    "\n",
    "sns.set(style=\"whitegrid\")\n",
    "%matplotlib inline\n"
   ]
  },
  {
   "cell_type": "markdown",
   "id": "8dbc1f6e",
   "metadata": {},
   "source": [
    "# Load Patient Data with Timestamps\n",
    "\n",
    "\n"
   ]
  },
  {
   "cell_type": "code",
   "execution_count": 25,
   "id": "22e28332",
   "metadata": {},
   "outputs": [
    {
     "name": "stdout",
     "output_type": "stream",
     "text": [
      "<class 'pandas.core.frame.DataFrame'>\n",
      "RangeIndex: 200859 entries, 0 to 200858\n",
      "Data columns (total 3 columns):\n",
      " #   Column             Non-Null Count   Dtype \n",
      "---  ------             --------------   ----- \n",
      " 0   patientunitstayid  200859 non-null  int64 \n",
      " 1   hospitalid         200859 non-null  int64 \n",
      " 2   unittype           200859 non-null  object\n",
      "dtypes: int64(2), object(1)\n",
      "memory usage: 4.6+ MB\n"
     ]
    },
    {
     "data": {
      "text/html": [
       "<div>\n",
       "<style scoped>\n",
       "    .dataframe tbody tr th:only-of-type {\n",
       "        vertical-align: middle;\n",
       "    }\n",
       "\n",
       "    .dataframe tbody tr th {\n",
       "        vertical-align: top;\n",
       "    }\n",
       "\n",
       "    .dataframe thead th {\n",
       "        text-align: right;\n",
       "    }\n",
       "</style>\n",
       "<table border=\"1\" class=\"dataframe\">\n",
       "  <thead>\n",
       "    <tr style=\"text-align: right;\">\n",
       "      <th></th>\n",
       "      <th>patientunitstayid</th>\n",
       "      <th>hospitalid</th>\n",
       "      <th>unittype</th>\n",
       "    </tr>\n",
       "  </thead>\n",
       "  <tbody>\n",
       "    <tr>\n",
       "      <th>0</th>\n",
       "      <td>141168</td>\n",
       "      <td>59</td>\n",
       "      <td>Med-Surg ICU</td>\n",
       "    </tr>\n",
       "    <tr>\n",
       "      <th>1</th>\n",
       "      <td>141178</td>\n",
       "      <td>60</td>\n",
       "      <td>Med-Surg ICU</td>\n",
       "    </tr>\n",
       "    <tr>\n",
       "      <th>2</th>\n",
       "      <td>141179</td>\n",
       "      <td>60</td>\n",
       "      <td>Med-Surg ICU</td>\n",
       "    </tr>\n",
       "    <tr>\n",
       "      <th>3</th>\n",
       "      <td>141194</td>\n",
       "      <td>73</td>\n",
       "      <td>CTICU</td>\n",
       "    </tr>\n",
       "    <tr>\n",
       "      <th>4</th>\n",
       "      <td>141196</td>\n",
       "      <td>67</td>\n",
       "      <td>Med-Surg ICU</td>\n",
       "    </tr>\n",
       "  </tbody>\n",
       "</table>\n",
       "</div>"
      ],
      "text/plain": [
       "   patientunitstayid  hospitalid      unittype\n",
       "0             141168          59  Med-Surg ICU\n",
       "1             141178          60  Med-Surg ICU\n",
       "2             141179          60  Med-Surg ICU\n",
       "3             141194          73         CTICU\n",
       "4             141196          67  Med-Surg ICU"
      ]
     },
     "execution_count": 25,
     "metadata": {},
     "output_type": "execute_result"
    }
   ],
   "source": [
    "# load patient data with hospital/unit info\n",
    "patient_path = Path(\"eicu-collaborative-research-database-2.0/patient.csv.gz\") \n",
    "df_pat = pd.read_csv(patient_path, compression=\"gzip\")\n",
    "\n",
    "# relevant columns\n",
    "df_pat = df_pat[['patientunitstayid', 'hospitalid', 'unittype']]\n",
    "\n",
    "#check info\n",
    "df_pat.info()\n",
    "df_pat.head()"
   ]
  },
  {
   "cell_type": "code",
   "execution_count": 26,
   "id": "4e41c6ab",
   "metadata": {},
   "outputs": [
    {
     "name": "stdout",
     "output_type": "stream",
     "text": [
      "<class 'pandas.core.frame.DataFrame'>\n",
      "RangeIndex: 2710672 entries, 0 to 2710671\n",
      "Data columns (total 7 columns):\n",
      " #   Column               Dtype \n",
      "---  ------               ----- \n",
      " 0   diagnosisid          int64 \n",
      " 1   patientunitstayid    int64 \n",
      " 2   activeupondischarge  bool  \n",
      " 3   diagnosisoffset      int64 \n",
      " 4   diagnosisstring      object\n",
      " 5   icd9code             object\n",
      " 6   diagnosispriority    object\n",
      "dtypes: bool(1), int64(3), object(3)\n",
      "memory usage: 126.7+ MB\n"
     ]
    },
    {
     "data": {
      "text/html": [
       "<div>\n",
       "<style scoped>\n",
       "    .dataframe tbody tr th:only-of-type {\n",
       "        vertical-align: middle;\n",
       "    }\n",
       "\n",
       "    .dataframe tbody tr th {\n",
       "        vertical-align: top;\n",
       "    }\n",
       "\n",
       "    .dataframe thead th {\n",
       "        text-align: right;\n",
       "    }\n",
       "</style>\n",
       "<table border=\"1\" class=\"dataframe\">\n",
       "  <thead>\n",
       "    <tr style=\"text-align: right;\">\n",
       "      <th></th>\n",
       "      <th>diagnosisid</th>\n",
       "      <th>patientunitstayid</th>\n",
       "      <th>activeupondischarge</th>\n",
       "      <th>diagnosisoffset</th>\n",
       "      <th>diagnosisstring</th>\n",
       "      <th>icd9code</th>\n",
       "      <th>diagnosispriority</th>\n",
       "    </tr>\n",
       "  </thead>\n",
       "  <tbody>\n",
       "    <tr>\n",
       "      <th>0</th>\n",
       "      <td>4222318</td>\n",
       "      <td>141168</td>\n",
       "      <td>False</td>\n",
       "      <td>72</td>\n",
       "      <td>cardiovascular|chest pain / ASHD|coronary arte...</td>\n",
       "      <td>414.00, I25.10</td>\n",
       "      <td>Other</td>\n",
       "    </tr>\n",
       "    <tr>\n",
       "      <th>1</th>\n",
       "      <td>3370568</td>\n",
       "      <td>141168</td>\n",
       "      <td>True</td>\n",
       "      <td>118</td>\n",
       "      <td>cardiovascular|ventricular disorders|cardiomyo...</td>\n",
       "      <td>NaN</td>\n",
       "      <td>Other</td>\n",
       "    </tr>\n",
       "    <tr>\n",
       "      <th>2</th>\n",
       "      <td>4160941</td>\n",
       "      <td>141168</td>\n",
       "      <td>False</td>\n",
       "      <td>72</td>\n",
       "      <td>pulmonary|disorders of the airways|COPD</td>\n",
       "      <td>491.20, J44.9</td>\n",
       "      <td>Other</td>\n",
       "    </tr>\n",
       "    <tr>\n",
       "      <th>3</th>\n",
       "      <td>4103261</td>\n",
       "      <td>141168</td>\n",
       "      <td>True</td>\n",
       "      <td>118</td>\n",
       "      <td>pulmonary|disorders of the airways|COPD</td>\n",
       "      <td>491.20, J44.9</td>\n",
       "      <td>Other</td>\n",
       "    </tr>\n",
       "    <tr>\n",
       "      <th>4</th>\n",
       "      <td>3545241</td>\n",
       "      <td>141168</td>\n",
       "      <td>True</td>\n",
       "      <td>118</td>\n",
       "      <td>cardiovascular|ventricular disorders|congestiv...</td>\n",
       "      <td>428.0, I50.9</td>\n",
       "      <td>Other</td>\n",
       "    </tr>\n",
       "  </tbody>\n",
       "</table>\n",
       "</div>"
      ],
      "text/plain": [
       "   diagnosisid  patientunitstayid  activeupondischarge  diagnosisoffset  \\\n",
       "0      4222318             141168                False               72   \n",
       "1      3370568             141168                 True              118   \n",
       "2      4160941             141168                False               72   \n",
       "3      4103261             141168                 True              118   \n",
       "4      3545241             141168                 True              118   \n",
       "\n",
       "                                     diagnosisstring        icd9code  \\\n",
       "0  cardiovascular|chest pain / ASHD|coronary arte...  414.00, I25.10   \n",
       "1  cardiovascular|ventricular disorders|cardiomyo...             NaN   \n",
       "2            pulmonary|disorders of the airways|COPD   491.20, J44.9   \n",
       "3            pulmonary|disorders of the airways|COPD   491.20, J44.9   \n",
       "4  cardiovascular|ventricular disorders|congestiv...    428.0, I50.9   \n",
       "\n",
       "  diagnosispriority  \n",
       "0             Other  \n",
       "1             Other  \n",
       "2             Other  \n",
       "3             Other  \n",
       "4             Other  "
      ]
     },
     "execution_count": 26,
     "metadata": {},
     "output_type": "execute_result"
    }
   ],
   "source": [
    "\n",
    "diag_path = Path(\"eicu-collaborative-research-database-2.0/diagnosis.csv.gz\") \n",
    "df_diag = pd.read_csv(diag_path, compression=\"gzip\")\n",
    "\n",
    "#check info\n",
    "df_diag.info()\n",
    "df_diag.head()"
   ]
  },
  {
   "cell_type": "code",
   "execution_count": 27,
   "id": "8cd1777b",
   "metadata": {},
   "outputs": [
    {
     "name": "stdout",
     "output_type": "stream",
     "text": [
      "<class 'pandas.core.frame.DataFrame'>\n",
      "RangeIndex: 2710672 entries, 0 to 2710671\n",
      "Data columns (total 8 columns):\n",
      " #   Column               Dtype   \n",
      "---  ------               -----   \n",
      " 0   diagnosisid          int64   \n",
      " 1   patientunitstayid    int64   \n",
      " 2   activeupondischarge  bool    \n",
      " 3   diagnosisoffset      int64   \n",
      " 4   diagnosisstring      object  \n",
      " 5   icd9code             object  \n",
      " 6   diagnosispriority    object  \n",
      " 7   pseudo_time          category\n",
      "dtypes: bool(1), category(1), int64(3), object(3)\n",
      "memory usage: 129.3+ MB\n"
     ]
    },
    {
     "data": {
      "text/html": [
       "<div>\n",
       "<style scoped>\n",
       "    .dataframe tbody tr th:only-of-type {\n",
       "        vertical-align: middle;\n",
       "    }\n",
       "\n",
       "    .dataframe tbody tr th {\n",
       "        vertical-align: top;\n",
       "    }\n",
       "\n",
       "    .dataframe thead th {\n",
       "        text-align: right;\n",
       "    }\n",
       "</style>\n",
       "<table border=\"1\" class=\"dataframe\">\n",
       "  <thead>\n",
       "    <tr style=\"text-align: right;\">\n",
       "      <th></th>\n",
       "      <th>diagnosisid</th>\n",
       "      <th>patientunitstayid</th>\n",
       "      <th>activeupondischarge</th>\n",
       "      <th>diagnosisoffset</th>\n",
       "      <th>diagnosisstring</th>\n",
       "      <th>icd9code</th>\n",
       "      <th>diagnosispriority</th>\n",
       "      <th>pseudo_time</th>\n",
       "    </tr>\n",
       "  </thead>\n",
       "  <tbody>\n",
       "    <tr>\n",
       "      <th>0</th>\n",
       "      <td>4222318</td>\n",
       "      <td>141168</td>\n",
       "      <td>False</td>\n",
       "      <td>72</td>\n",
       "      <td>cardiovascular|chest pain / ASHD|coronary arte...</td>\n",
       "      <td>414.00, I25.10</td>\n",
       "      <td>Other</td>\n",
       "      <td>early</td>\n",
       "    </tr>\n",
       "    <tr>\n",
       "      <th>1</th>\n",
       "      <td>3370568</td>\n",
       "      <td>141168</td>\n",
       "      <td>True</td>\n",
       "      <td>118</td>\n",
       "      <td>cardiovascular|ventricular disorders|cardiomyo...</td>\n",
       "      <td>NaN</td>\n",
       "      <td>Other</td>\n",
       "      <td>early</td>\n",
       "    </tr>\n",
       "    <tr>\n",
       "      <th>2</th>\n",
       "      <td>4160941</td>\n",
       "      <td>141168</td>\n",
       "      <td>False</td>\n",
       "      <td>72</td>\n",
       "      <td>pulmonary|disorders of the airways|COPD</td>\n",
       "      <td>491.20, J44.9</td>\n",
       "      <td>Other</td>\n",
       "      <td>early</td>\n",
       "    </tr>\n",
       "    <tr>\n",
       "      <th>3</th>\n",
       "      <td>4103261</td>\n",
       "      <td>141168</td>\n",
       "      <td>True</td>\n",
       "      <td>118</td>\n",
       "      <td>pulmonary|disorders of the airways|COPD</td>\n",
       "      <td>491.20, J44.9</td>\n",
       "      <td>Other</td>\n",
       "      <td>early</td>\n",
       "    </tr>\n",
       "    <tr>\n",
       "      <th>4</th>\n",
       "      <td>3545241</td>\n",
       "      <td>141168</td>\n",
       "      <td>True</td>\n",
       "      <td>118</td>\n",
       "      <td>cardiovascular|ventricular disorders|congestiv...</td>\n",
       "      <td>428.0, I50.9</td>\n",
       "      <td>Other</td>\n",
       "      <td>early</td>\n",
       "    </tr>\n",
       "  </tbody>\n",
       "</table>\n",
       "</div>"
      ],
      "text/plain": [
       "   diagnosisid  patientunitstayid  activeupondischarge  diagnosisoffset  \\\n",
       "0      4222318             141168                False               72   \n",
       "1      3370568             141168                 True              118   \n",
       "2      4160941             141168                False               72   \n",
       "3      4103261             141168                 True              118   \n",
       "4      3545241             141168                 True              118   \n",
       "\n",
       "                                     diagnosisstring        icd9code  \\\n",
       "0  cardiovascular|chest pain / ASHD|coronary arte...  414.00, I25.10   \n",
       "1  cardiovascular|ventricular disorders|cardiomyo...             NaN   \n",
       "2            pulmonary|disorders of the airways|COPD   491.20, J44.9   \n",
       "3            pulmonary|disorders of the airways|COPD   491.20, J44.9   \n",
       "4  cardiovascular|ventricular disorders|congestiv...    428.0, I50.9   \n",
       "\n",
       "  diagnosispriority pseudo_time  \n",
       "0             Other       early  \n",
       "1             Other       early  \n",
       "2             Other       early  \n",
       "3             Other       early  \n",
       "4             Other       early  "
      ]
     },
     "execution_count": 27,
     "metadata": {},
     "output_type": "execute_result"
    }
   ],
   "source": [
    "# Use patientunitstayid as a proxy for time\n",
    "df_pat = df_pat.dropna(subset=[\"patientunitstayid\"])\n",
    "df_pat[\"pseudo_time\"] = pd.qcut(df_pat[\"patientunitstayid\"], q=2, labels=[\"early\", \"late\"])\n",
    "\n",
    "#merging \n",
    "df = df_diag.merge(df_pat[[\"patientunitstayid\", \"pseudo_time\"]], on=\"patientunitstayid\", how=\"left\")\n",
    "df = df.dropna(subset=[\"pseudo_time\", \"diagnosispriority\"])\n",
    "\n",
    "df.info()\n",
    "df.head()\n"
   ]
  },
  {
   "cell_type": "markdown",
   "id": "1f4fb30b",
   "metadata": {},
   "source": [
    "# Define Temporal Cohorts\n",
    "\n",
    "\n"
   ]
  },
  {
   "cell_type": "code",
   "execution_count": 28,
   "id": "5ed06824",
   "metadata": {},
   "outputs": [],
   "source": [
    "# Encode diagnosispriority to numeric\n",
    "df[\"diagnosispriority_encoded\"] = pd.factorize(df[\"diagnosispriority\"])[0]\n",
    "feature = \"diagnosispriority_encoded\""
   ]
  },
  {
   "cell_type": "markdown",
   "id": "ff8792e2",
   "metadata": {},
   "source": [
    "# Visualize Feature Distribution Over Time\n",
    "\n"
   ]
  },
  {
   "cell_type": "code",
   "execution_count": 29,
   "id": "7a012cca",
   "metadata": {},
   "outputs": [
    {
     "data": {
      "image/png": "[encoded data removed]",
      "text/plain": [
       "<Figure size 1000x600 with 1 Axes>"
      ]
     },
     "metadata": {},
     "output_type": "display_data"
    }
   ],
   "source": [
    "plt.figure(figsize=(10, 6))\n",
    "sns.kdeplot(data=df, x=feature, hue=\"pseudo_time\", common_norm=False)\n",
    "plt.title(f\"{feature} Distribution by Simulated Time Bucket\")\n",
    "plt.xlabel(feature)\n",
    "plt.ylabel(\"Density\")\n",
    "plt.show()"
   ]
  },
  {
   "cell_type": "markdown",
   "id": "06e61c9b",
   "metadata": {},
   "source": [
    "# Statistical Test for Temporal Drift\n",
    "\n"
   ]
  },
  {
   "cell_type": "code",
   "execution_count": 30,
   "id": "3fd57b5a",
   "metadata": {},
   "outputs": [
    {
     "name": "stdout",
     "output_type": "stream",
     "text": [
      "KS Statistic = 0.1266\n",
      "P-value = 0.0000\n"
     ]
    }
   ],
   "source": [
    "group1 = df[df[\"pseudo_time\"] == \"early\"][feature].dropna()\n",
    "group2 = df[df[\"pseudo_time\"] == \"late\"][feature].dropna()\n",
    "\n",
    "stat, p = ks_2samp(group1, group2)\n",
    "print(f\"KS Statistic = {stat:.4f}\")\n",
    "print(f\"P-value = {p:.4f}\")\n"
   ]
  },
  {
   "cell_type": "markdown",
   "id": "5994dcdf",
   "metadata": {},
   "source": [
    "# Save Temporal Cohort Splits\n",
    "\n"
   ]
  },
  {
   "cell_type": "code",
   "execution_count": 31,
   "id": "0e2fa9ac",
   "metadata": {},
   "outputs": [],
   "source": [
    "early_df = df[df[\"pseudo_time\"] == \"early\"]\n",
    "late_df = df[df[\"pseudo_time\"] == \"late\"]\n",
    "\n",
    "Path(\"cohorts\").mkdir(exist_ok=True)\n",
    "early_df.to_csv(\"cohorts/train_temporal.csv\", index=False)\n",
    "late_df.to_csv(\"cohorts/test_temporal.csv\", index=False)\n"
   ]
  },
  {
   "cell_type": "code",
   "execution_count": 32,
   "id": "027c6784",
   "metadata": {},
   "outputs": [],
   "source": [
    "#making sample size \n",
    "# full cohort output from notebook \n",
    "df_train = pd.read_csv(\"cohorts/train_temporal.csv\")\n",
    "df_test = pd.read_csv(\"cohorts/test_temporal.csv\")\n",
    "\n",
    "# Random sample of 500 rows (for demo/testing)\n",
    "sample_df_train = df_train.sample(n=500, random_state=42)\n",
    "sample_df_test = df_test.sample(n=500, random_state=42)\n",
    "\n",
    "# Save this\n",
    "sample_df_train.to_csv(\"cohorts/train_temporal_sample.csv\", index=False)\n",
    "sample_df_test.to_csv(\"cohorts/test_temporal_sample.csv\", index=False)\n"
   ]
  },
  {
   "cell_type": "markdown",
   "id": "14f41813",
   "metadata": {},
   "source": [
    "# Summary\n",
    "\n",
    "This notebook successfully:\n",
    "- Identified a temporal feature (`hospitaladmitoffset`)\n",
    "- Defined early vs. late admission cohorts\n",
    "- Quantified distribution shift in clinical features\n",
    "- Saved shifted datasets for modeling\n",
    "\n",
    "These steps support later experiments in:\n",
    "- Evaluating baseline model robustness over time\n",
    "- Testing In-Context Learning (ICL) strategies for temporal generalization\n"
   ]
  },
  {
   "cell_type": "markdown",
   "id": "049d918e",
   "metadata": {},
   "source": []
  }
 ],
 "metadata": {
  "kernelspec": {
   "display_name": "healthcare_shift",
   "language": "python",
   "name": "python3"
  },
  "language_info": {
   "codemirror_mode": {
    "name": "ipython",
    "version": 3
   },
   "file_extension": ".py",
   "mimetype": "text/x-python",
   "name": "python",
   "nbconvert_exporter": "python",
   "pygments_lexer": "ipython3",
   "version": "3.10.18"
  }
 },
 "nbformat": 4,
 "nbformat_minor": 5
}
