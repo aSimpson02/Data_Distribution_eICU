{
 "cells": [
  {
   "cell_type": "markdown",
   "id": "c348ecf9",
   "metadata": {},
   "source": [
    "# Temporal Shift Detection in ICU Patient Data\n"
   ]
  },
  {
   "cell_type": "code",
   "execution_count": 12,
   "id": "788f62d1",
   "metadata": {},
   "outputs": [],
   "source": [
    "import pandas as pd\n",
    "import numpy as np\n",
    "import seaborn as sns\n",
    "import matplotlib.pyplot as plt\n",
    "from scipy.stats import ks_2samp\n",
    "from pathlib import Path\n",
    "from sklearn.linear_model import LogisticRegression\n",
    "from sklearn.metrics import roc_auc_score\n",
    "\n",
    "sns.set(style=\"whitegrid\")\n",
    "%matplotlib inline\n"
   ]
  },
  {
   "cell_type": "code",
   "execution_count": 13,
   "id": "d61c30d5",
   "metadata": {},
   "outputs": [
    {
     "data": {
      "text/plain": [
       "array([0.        , 0.84147098])"
      ]
     },
     "execution_count": 13,
     "metadata": {},
     "output_type": "execute_result"
    }
   ],
   "source": [
    "import numpy as np\n",
    "np.__version__\n",
    "np.sin(np.array([0, 1]))\n"
   ]
  },
  {
   "cell_type": "markdown",
   "id": "8dbc1f6e",
   "metadata": {},
   "source": [
    "# Load Patient Data with Timestamps\n",
    "\n",
    "\n"
   ]
  },
  {
   "cell_type": "code",
   "execution_count": 23,
   "id": "22e28332",
   "metadata": {},
   "outputs": [
    {
     "name": "stderr",
     "output_type": "stream",
     "text": [
      "/var/folders/5y/v983zg9s5mj989l04vv_c3lc0000gn/T/ipykernel_30260/196680420.py:9: UserWarning: Could not infer format, so each element will be parsed individually, falling back to `dateutil`. To ensure parsing is consistent and as-expected, please specify a format.\n",
      "  df_pat[\"unitadmittime24\"] = pd.to_datetime(df_pat[\"unitadmittime24\"], errors=\"coerce\")\n"
     ]
    },
    {
     "name": "stdout",
     "output_type": "stream",
     "text": [
      "Split cutoff: 2025-06-27 14:09:00\n",
      "<class 'pandas.core.frame.DataFrame'>\n",
      "RangeIndex: 200859 entries, 0 to 200858\n",
      "Data columns (total 7 columns):\n",
      " #   Column               Non-Null Count   Dtype         \n",
      "---  ------               --------------   -----         \n",
      " 0   patientunitstayid    200859 non-null  int64         \n",
      " 1   hospitalid           200859 non-null  int64         \n",
      " 2   unittype             200859 non-null  object        \n",
      " 3   unitadmittime24      200859 non-null  datetime64[ns]\n",
      " 4   unitdischargestatus  200825 non-null  object        \n",
      " 5   mortality            200859 non-null  int64         \n",
      " 6   time_bucket          200859 non-null  object        \n",
      "dtypes: datetime64[ns](1), int64(3), object(3)\n",
      "memory usage: 10.7+ MB\n"
     ]
    },
    {
     "data": {
      "text/html": [
       "<div>\n",
       "<style scoped>\n",
       "    .dataframe tbody tr th:only-of-type {\n",
       "        vertical-align: middle;\n",
       "    }\n",
       "\n",
       "    .dataframe tbody tr th {\n",
       "        vertical-align: top;\n",
       "    }\n",
       "\n",
       "    .dataframe thead th {\n",
       "        text-align: right;\n",
       "    }\n",
       "</style>\n",
       "<table border=\"1\" class=\"dataframe\">\n",
       "  <thead>\n",
       "    <tr style=\"text-align: right;\">\n",
       "      <th></th>\n",
       "      <th>patientunitstayid</th>\n",
       "      <th>hospitalid</th>\n",
       "      <th>unittype</th>\n",
       "      <th>unitadmittime24</th>\n",
       "      <th>unitdischargestatus</th>\n",
       "      <th>mortality</th>\n",
       "      <th>time_bucket</th>\n",
       "    </tr>\n",
       "  </thead>\n",
       "  <tbody>\n",
       "    <tr>\n",
       "      <th>0</th>\n",
       "      <td>141168</td>\n",
       "      <td>59</td>\n",
       "      <td>Med-Surg ICU</td>\n",
       "      <td>2025-06-27 15:54:00</td>\n",
       "      <td>Expired</td>\n",
       "      <td>1</td>\n",
       "      <td>late</td>\n",
       "    </tr>\n",
       "    <tr>\n",
       "      <th>1</th>\n",
       "      <td>141178</td>\n",
       "      <td>60</td>\n",
       "      <td>Med-Surg ICU</td>\n",
       "      <td>2025-06-27 09:10:00</td>\n",
       "      <td>Alive</td>\n",
       "      <td>0</td>\n",
       "      <td>early</td>\n",
       "    </tr>\n",
       "    <tr>\n",
       "      <th>2</th>\n",
       "      <td>141179</td>\n",
       "      <td>60</td>\n",
       "      <td>Med-Surg ICU</td>\n",
       "      <td>2025-06-27 09:18:00</td>\n",
       "      <td>Alive</td>\n",
       "      <td>0</td>\n",
       "      <td>early</td>\n",
       "    </tr>\n",
       "    <tr>\n",
       "      <th>3</th>\n",
       "      <td>141194</td>\n",
       "      <td>73</td>\n",
       "      <td>CTICU</td>\n",
       "      <td>2025-06-27 07:18:00</td>\n",
       "      <td>Alive</td>\n",
       "      <td>0</td>\n",
       "      <td>early</td>\n",
       "    </tr>\n",
       "    <tr>\n",
       "      <th>4</th>\n",
       "      <td>141196</td>\n",
       "      <td>67</td>\n",
       "      <td>Med-Surg ICU</td>\n",
       "      <td>2025-06-27 22:00:00</td>\n",
       "      <td>Alive</td>\n",
       "      <td>0</td>\n",
       "      <td>late</td>\n",
       "    </tr>\n",
       "  </tbody>\n",
       "</table>\n",
       "</div>"
      ],
      "text/plain": [
       "   patientunitstayid  hospitalid      unittype     unitadmittime24  \\\n",
       "0             141168          59  Med-Surg ICU 2025-06-27 15:54:00   \n",
       "1             141178          60  Med-Surg ICU 2025-06-27 09:10:00   \n",
       "2             141179          60  Med-Surg ICU 2025-06-27 09:18:00   \n",
       "3             141194          73         CTICU 2025-06-27 07:18:00   \n",
       "4             141196          67  Med-Surg ICU 2025-06-27 22:00:00   \n",
       "\n",
       "  unitdischargestatus  mortality time_bucket  \n",
       "0             Expired          1        late  \n",
       "1               Alive          0       early  \n",
       "2               Alive          0       early  \n",
       "3               Alive          0       early  \n",
       "4               Alive          0        late  "
      ]
     },
     "execution_count": 23,
     "metadata": {},
     "output_type": "execute_result"
    }
   ],
   "source": [
    "# Load patient data with timestamps and discharge outcome\n",
    "df_pat = pd.read_csv(\n",
    "    \"eicu-collaborative-research-database-2.0/patient.csv.gz\",\n",
    "    compression=\"gzip\",\n",
    "    usecols=[\"patientunitstayid\", \"hospitalid\", \"unittype\", \"unitadmittime24\", \"unitdischargestatus\"]\n",
    ")\n",
    "\n",
    "# Clean + define time bucket + mortality\n",
    "df_pat[\"unitadmittime24\"] = pd.to_datetime(df_pat[\"unitadmittime24\"], errors=\"coerce\")\n",
    "df_pat[\"mortality\"] = df_pat[\"unitdischargestatus\"].str.lower().eq(\"expired\").astype(int)\n",
    "median_time = df_pat[\"unitadmittime24\"].median()\n",
    "df_pat[\"time_bucket\"] = np.where(df_pat[\"unitadmittime24\"] < median_time, \"early\", \"late\")\n",
    "print(\"Split cutoff:\", median_time)\n",
    "\n",
    "\n",
    "# Inspect output\n",
    "df_pat.info()\n",
    "df_pat.head()"
   ]
  },
  {
   "cell_type": "code",
   "execution_count": 24,
   "id": "4e41c6ab",
   "metadata": {},
   "outputs": [
    {
     "name": "stdout",
     "output_type": "stream",
     "text": [
      "<class 'pandas.core.frame.DataFrame'>\n",
      "RangeIndex: 2710672 entries, 0 to 2710671\n",
      "Data columns (total 10 columns):\n",
      " #   Column                     Dtype \n",
      "---  ------                     ----- \n",
      " 0   diagnosisid                int64 \n",
      " 1   patientunitstayid          int64 \n",
      " 2   activeupondischarge        bool  \n",
      " 3   diagnosisoffset            int64 \n",
      " 4   diagnosisstring            object\n",
      " 5   icd9code                   object\n",
      " 6   diagnosispriority          object\n",
      " 7   time_bucket                object\n",
      " 8   mortality                  int64 \n",
      " 9   diagnosispriority_encoded  int64 \n",
      "dtypes: bool(1), int64(5), object(4)\n",
      "memory usage: 188.7+ MB\n"
     ]
    },
    {
     "data": {
      "text/html": [
       "<div>\n",
       "<style scoped>\n",
       "    .dataframe tbody tr th:only-of-type {\n",
       "        vertical-align: middle;\n",
       "    }\n",
       "\n",
       "    .dataframe tbody tr th {\n",
       "        vertical-align: top;\n",
       "    }\n",
       "\n",
       "    .dataframe thead th {\n",
       "        text-align: right;\n",
       "    }\n",
       "</style>\n",
       "<table border=\"1\" class=\"dataframe\">\n",
       "  <thead>\n",
       "    <tr style=\"text-align: right;\">\n",
       "      <th></th>\n",
       "      <th>diagnosisid</th>\n",
       "      <th>patientunitstayid</th>\n",
       "      <th>activeupondischarge</th>\n",
       "      <th>diagnosisoffset</th>\n",
       "      <th>diagnosisstring</th>\n",
       "      <th>icd9code</th>\n",
       "      <th>diagnosispriority</th>\n",
       "      <th>time_bucket</th>\n",
       "      <th>mortality</th>\n",
       "      <th>diagnosispriority_encoded</th>\n",
       "    </tr>\n",
       "  </thead>\n",
       "  <tbody>\n",
       "    <tr>\n",
       "      <th>0</th>\n",
       "      <td>4222318</td>\n",
       "      <td>141168</td>\n",
       "      <td>False</td>\n",
       "      <td>72</td>\n",
       "      <td>cardiovascular|chest pain / ASHD|coronary arte...</td>\n",
       "      <td>414.00, I25.10</td>\n",
       "      <td>Other</td>\n",
       "      <td>late</td>\n",
       "      <td>1</td>\n",
       "      <td>0</td>\n",
       "    </tr>\n",
       "    <tr>\n",
       "      <th>1</th>\n",
       "      <td>3370568</td>\n",
       "      <td>141168</td>\n",
       "      <td>True</td>\n",
       "      <td>118</td>\n",
       "      <td>cardiovascular|ventricular disorders|cardiomyo...</td>\n",
       "      <td>NaN</td>\n",
       "      <td>Other</td>\n",
       "      <td>late</td>\n",
       "      <td>1</td>\n",
       "      <td>0</td>\n",
       "    </tr>\n",
       "    <tr>\n",
       "      <th>2</th>\n",
       "      <td>4160941</td>\n",
       "      <td>141168</td>\n",
       "      <td>False</td>\n",
       "      <td>72</td>\n",
       "      <td>pulmonary|disorders of the airways|COPD</td>\n",
       "      <td>491.20, J44.9</td>\n",
       "      <td>Other</td>\n",
       "      <td>late</td>\n",
       "      <td>1</td>\n",
       "      <td>0</td>\n",
       "    </tr>\n",
       "    <tr>\n",
       "      <th>3</th>\n",
       "      <td>4103261</td>\n",
       "      <td>141168</td>\n",
       "      <td>True</td>\n",
       "      <td>118</td>\n",
       "      <td>pulmonary|disorders of the airways|COPD</td>\n",
       "      <td>491.20, J44.9</td>\n",
       "      <td>Other</td>\n",
       "      <td>late</td>\n",
       "      <td>1</td>\n",
       "      <td>0</td>\n",
       "    </tr>\n",
       "    <tr>\n",
       "      <th>4</th>\n",
       "      <td>3545241</td>\n",
       "      <td>141168</td>\n",
       "      <td>True</td>\n",
       "      <td>118</td>\n",
       "      <td>cardiovascular|ventricular disorders|congestiv...</td>\n",
       "      <td>428.0, I50.9</td>\n",
       "      <td>Other</td>\n",
       "      <td>late</td>\n",
       "      <td>1</td>\n",
       "      <td>0</td>\n",
       "    </tr>\n",
       "  </tbody>\n",
       "</table>\n",
       "</div>"
      ],
      "text/plain": [
       "   diagnosisid  patientunitstayid  activeupondischarge  diagnosisoffset  \\\n",
       "0      4222318             141168                False               72   \n",
       "1      3370568             141168                 True              118   \n",
       "2      4160941             141168                False               72   \n",
       "3      4103261             141168                 True              118   \n",
       "4      3545241             141168                 True              118   \n",
       "\n",
       "                                     diagnosisstring        icd9code  \\\n",
       "0  cardiovascular|chest pain / ASHD|coronary arte...  414.00, I25.10   \n",
       "1  cardiovascular|ventricular disorders|cardiomyo...             NaN   \n",
       "2            pulmonary|disorders of the airways|COPD   491.20, J44.9   \n",
       "3            pulmonary|disorders of the airways|COPD   491.20, J44.9   \n",
       "4  cardiovascular|ventricular disorders|congestiv...    428.0, I50.9   \n",
       "\n",
       "  diagnosispriority time_bucket  mortality  diagnosispriority_encoded  \n",
       "0             Other        late          1                          0  \n",
       "1             Other        late          1                          0  \n",
       "2             Other        late          1                          0  \n",
       "3             Other        late          1                          0  \n",
       "4             Other        late          1                          0  "
      ]
     },
     "execution_count": 24,
     "metadata": {},
     "output_type": "execute_result"
    }
   ],
   "source": [
    "# Load diagnosis data\n",
    "df_diag = pd.read_csv(\"eicu-collaborative-research-database-2.0/diagnosis.csv.gz\", compression=\"gzip\")\n",
    "\n",
    "# Merge time + mortality\n",
    "df = df_diag.merge(df_pat[[\"patientunitstayid\", \"time_bucket\", \"mortality\"]], on=\"patientunitstayid\", how=\"left\")\n",
    "df = df.dropna(subset=[\"time_bucket\", \"diagnosispriority\"])\n",
    "\n",
    "# Encode diagnosispriority\n",
    "df[\"diagnosispriority_encoded\"] = pd.factorize(df[\"diagnosispriority\"])[0]\n",
    "\n",
    "# Inspect merged dataset\n",
    "df.info()\n",
    "df.head()\n"
   ]
  },
  {
   "cell_type": "markdown",
   "id": "1f4fb30b",
   "metadata": {},
   "source": [
    "# Define Temporal Cohorts\n",
    "\n",
    "\n"
   ]
  },
  {
   "cell_type": "code",
   "execution_count": 25,
   "id": "5ed06824",
   "metadata": {},
   "outputs": [],
   "source": [
    "# Encode diagnosispriority to numeric\n",
    "# df[\"diagnosispriority_encoded\"] = pd.factorize(df[\"diagnosispriority\"])[0]\n",
    "# feature = \"diagnosispriority_encoded\""
   ]
  },
  {
   "cell_type": "markdown",
   "id": "ff8792e2",
   "metadata": {},
   "source": [
    "# Visualize Feature Distribution Over Time\n",
    "\n"
   ]
  },
  {
   "cell_type": "code",
   "execution_count": 26,
   "id": "7a012cca",
   "metadata": {},
   "outputs": [
    {
     "data": {
      "image/png": "[encoded data removed]",
      "text/plain": [
       "<Figure size 1000x600 with 1 Axes>"
      ]
     },
     "metadata": {},
     "output_type": "display_data"
    }
   ],
   "source": [
    "# Plot KDE\n",
    "plt.figure(figsize=(10, 6))\n",
    "sns.kdeplot(data=df, x=\"diagnosispriority_encoded\", hue=\"time_bucket\", common_norm=False)\n",
    "plt.title(\"Diagnosis Priority Distribution Over Time\")\n",
    "plt.xlabel(\"Encoded Diagnosis Priority\")\n",
    "plt.ylabel(\"Density\")\n",
    "plt.show()"
   ]
  },
  {
   "cell_type": "markdown",
   "id": "06e61c9b",
   "metadata": {},
   "source": [
    "# Statistical Test for Temporal Drift\n",
    "\n"
   ]
  },
  {
   "cell_type": "code",
   "execution_count": 27,
   "id": "3fd57b5a",
   "metadata": {},
   "outputs": [
    {
     "name": "stdout",
     "output_type": "stream",
     "text": [
      "KS Statistic = 0.0158, P-value = 1.5382e-147\n"
     ]
    }
   ],
   "source": [
    "# KS test\n",
    "group1 = df[df[\"time_bucket\"] == \"early\"][\"diagnosispriority_encoded\"].dropna()\n",
    "group2 = df[df[\"time_bucket\"] == \"late\"][\"diagnosispriority_encoded\"].dropna()\n",
    "ks_stat, p_val = ks_2samp(group1, group2)\n",
    "print(f\"KS Statistic = {ks_stat:.4f}, P-value = {p_val:.4e}\")\n"
   ]
  },
  {
   "cell_type": "markdown",
   "id": "5994dcdf",
   "metadata": {},
   "source": [
    "# Save Temporal Cohort Splits\n",
    "\n"
   ]
  },
  {
   "cell_type": "code",
   "execution_count": 28,
   "id": "0e2fa9ac",
   "metadata": {},
   "outputs": [],
   "source": [
    "early_df = df[df[\"time_bucket\"] == \"early\"]\n",
    "late_df = df[df[\"time_bucket\"] == \"late\"]\n",
    "\n",
    "Path(\"cohorts\").mkdir(exist_ok=True)\n",
    "early_df.to_csv(\"cohorts/train_temporal.csv\", index=False)\n",
    "late_df.to_csv(\"cohorts/test_temporal.csv\", index=False)\n"
   ]
  },
  {
   "cell_type": "code",
   "execution_count": 29,
   "id": "027c6784",
   "metadata": {},
   "outputs": [
    {
     "name": "stdout",
     "output_type": "stream",
     "text": [
      "Train cohort size: 1449650\n",
      "Test cohort size: 1261022\n"
     ]
    }
   ],
   "source": [
    "#making sample size \n",
    "# Load saved temporal splits\n",
    "df_train = pd.read_csv(\"cohorts/train_temporal.csv\")\n",
    "df_test = pd.read_csv(\"cohorts/test_temporal.csv\")\n",
    "\n",
    "print(\"Train cohort size:\", len(df_train))\n",
    "print(\"Test cohort size:\", len(df_test))\n",
    "\n",
    "# Sample if possible, else use full sets\n",
    "if len(df_train) >= 500 and len(df_test) >= 500:\n",
    "    sample_df_train = df_train.sample(n=500, random_state=42)\n",
    "    sample_df_test = df_test.sample(n=500, random_state=42)\n",
    "else:\n",
    "    print(\"⚠️ Not enough data to sample 500. Using full cohorts.\")\n",
    "    sample_df_train = df_train.copy()\n",
    "    sample_df_test = df_test.copy()\n",
    "\n",
    "# Save sample\n",
    "sample_df_train.to_csv(\"cohorts/train_temporal_sample.csv\", index=False)\n",
    "sample_df_test.to_csv(\"cohorts/test_temporal_sample.csv\", index=False)\n"
   ]
  },
  {
   "cell_type": "code",
   "execution_count": 33,
   "id": "2791e83a",
   "metadata": {},
   "outputs": [
    {
     "name": "stdout",
     "output_type": "stream",
     "text": [
      "Test AUROC (early→late): 0.4873\n"
     ]
    }
   ],
   "source": [
    "from sklearn.linear_model import LogisticRegression\n",
    "from sklearn.metrics import roc_auc_score\n",
    "\n",
    "# Ensure there’s enough data to train\n",
    "if len(sample_df_train) > 0 and len(sample_df_test) > 0:\n",
    "    X_train = sample_df_train[[\"diagnosispriority_encoded\"]]\n",
    "    y_train = sample_df_train[\"mortality\"]\n",
    "    X_test = sample_df_test[[\"diagnosispriority_encoded\"]]\n",
    "    y_test = sample_df_test[\"mortality\"]\n",
    "\n",
    "    if len(X_train[\"diagnosispriority_encoded\"].unique()) > 1 and y_train.nunique() > 1:\n",
    "        model = LogisticRegression().fit(X_train, y_train)\n",
    "        preds = model.predict_proba(X_test)[:, 1]\n",
    "        auroc = roc_auc_score(y_test, preds)\n",
    "        print(f\"Test AUROC (early→late): {auroc:.4f}\")\n",
    "    else:\n",
    "        print(\"Not enough variation in training data to train a model.\")\n",
    "else:\n",
    "    print(\"Empty training or test data — check your cohort creation earlier in the notebook.\")\n"
   ]
  },
  {
   "cell_type": "code",
   "execution_count": 34,
   "id": "f0283a55",
   "metadata": {},
   "outputs": [
    {
     "name": "stdout",
     "output_type": "stream",
     "text": [
      "Test AUROC (early→late): 0.4873\n"
     ]
    }
   ],
   "source": [
    "from sklearn.linear_model import LogisticRegression\n",
    "from sklearn.metrics import roc_auc_score\n",
    "\n",
    "X_train = sample_df_train[[\"diagnosispriority_encoded\"]]\n",
    "y_train = sample_df_train[\"mortality\"]\n",
    "X_test = sample_df_test[[\"diagnosispriority_encoded\"]]\n",
    "y_test = sample_df_test[\"mortality\"]\n",
    "\n",
    "model = LogisticRegression().fit(X_train, y_train)\n",
    "auroc = roc_auc_score(y_test, model.predict_proba(X_test)[:, 1])\n",
    "print(f\"Test AUROC (early→late): {auroc:.4f}\")\n"
   ]
  },
  {
   "cell_type": "markdown",
   "id": "14f41813",
   "metadata": {},
   "source": [
    "# Summary\n",
    "\n",
    "This notebook successfully:\n",
    "- Identified a temporal feature (`hospitaladmitoffset`)\n",
    "- Defined early vs. late admission cohorts\n",
    "- Quantified distribution shift in clinical features\n",
    "- Saved shifted datasets for modeling\n",
    "\n",
    "These steps support later experiments in:\n",
    "- Evaluating baseline model robustness over time\n",
    "- Testing In-Context Learning (ICL) strategies for temporal generalization\n"
   ]
  },
  {
   "cell_type": "markdown",
   "id": "049d918e",
   "metadata": {},
   "source": []
  }
 ],
 "metadata": {
  "kernelspec": {
   "display_name": "eicu-env",
   "language": "python",
   "name": "python3"
  },
  "language_info": {
   "codemirror_mode": {
    "name": "ipython",
    "version": 3
   },
   "file_extension": ".py",
   "mimetype": "text/x-python",
   "name": "python",
   "nbconvert_exporter": "python",
   "pygments_lexer": "ipython3",
   "version": "3.10.18"
  }
 },
 "nbformat": 4,
 "nbformat_minor": 5
}
