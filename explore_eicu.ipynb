{
 "cells": [
  {
   "cell_type": "markdown",
   "id": "05f75be4",
   "metadata": {},
   "source": [
    "# Data Exploration and Shift Detection in eICU Dataset 1\n",
    "\n",
    "## 1. Environment Setup\n",
    "\n"
   ]
  },
  {
   "cell_type": "code",
   "execution_count": 141,
   "id": "f93cf59b",
   "metadata": {},
   "outputs": [],
   "source": [
    "# 1. Import necessary libraries\n",
    "import pandas as pd\n",
    "import numpy as np\n",
    "import seaborn as sns\n",
    "import matplotlib.pyplot as plt\n",
    "from scipy.stats import ks_2samp\n",
    "from pathlib import Path\n",
    "\n",
    "sns.set(style=\"whitegrid\")\n",
    "%matplotlib inline\n"
   ]
  },
  {
   "cell_type": "code",
   "execution_count": 142,
   "id": "afa7ab7a",
   "metadata": {},
   "outputs": [],
   "source": [
    "# Define paths\n",
    "base_path = Path(\"eicu-collaborative-research-database-2.0\")\n",
    "diag_path = base_path / \"diagnosis.csv.gz\"\n",
    "patient_path = base_path / \"patient.csv.gz\"\n",
    "apache_path = base_path / \"apachePatientResult.csv.gz\""
   ]
  },
  {
   "cell_type": "markdown",
   "id": "0112ef28",
   "metadata": {},
   "source": [
    "## 2. Load Diagnosis Data\n",
    "\n"
   ]
  },
  {
   "cell_type": "code",
   "execution_count": 143,
   "id": "26abf1e6",
   "metadata": {},
   "outputs": [
    {
     "name": "stdout",
     "output_type": "stream",
     "text": [
      "Diagnosis columns: ['diagnosisid', 'patientunitstayid', 'activeupondischarge', 'diagnosisoffset', 'diagnosisstring', 'icd9code', 'diagnosispriority']\n"
     ]
    },
    {
     "data": {
      "text/html": [
       "<div>\n",
       "<style scoped>\n",
       "    .dataframe tbody tr th:only-of-type {\n",
       "        vertical-align: middle;\n",
       "    }\n",
       "\n",
       "    .dataframe tbody tr th {\n",
       "        vertical-align: top;\n",
       "    }\n",
       "\n",
       "    .dataframe thead th {\n",
       "        text-align: right;\n",
       "    }\n",
       "</style>\n",
       "<table border=\"1\" class=\"dataframe\">\n",
       "  <thead>\n",
       "    <tr style=\"text-align: right;\">\n",
       "      <th></th>\n",
       "      <th>diagnosisid</th>\n",
       "      <th>patientunitstayid</th>\n",
       "      <th>activeupondischarge</th>\n",
       "      <th>diagnosisoffset</th>\n",
       "      <th>diagnosisstring</th>\n",
       "      <th>icd9code</th>\n",
       "      <th>diagnosispriority</th>\n",
       "    </tr>\n",
       "  </thead>\n",
       "  <tbody>\n",
       "    <tr>\n",
       "      <th>0</th>\n",
       "      <td>4222318</td>\n",
       "      <td>141168</td>\n",
       "      <td>False</td>\n",
       "      <td>72</td>\n",
       "      <td>cardiovascular|chest pain / ASHD|coronary arte...</td>\n",
       "      <td>414.00, I25.10</td>\n",
       "      <td>Other</td>\n",
       "    </tr>\n",
       "    <tr>\n",
       "      <th>1</th>\n",
       "      <td>3370568</td>\n",
       "      <td>141168</td>\n",
       "      <td>True</td>\n",
       "      <td>118</td>\n",
       "      <td>cardiovascular|ventricular disorders|cardiomyo...</td>\n",
       "      <td>NaN</td>\n",
       "      <td>Other</td>\n",
       "    </tr>\n",
       "    <tr>\n",
       "      <th>2</th>\n",
       "      <td>4160941</td>\n",
       "      <td>141168</td>\n",
       "      <td>False</td>\n",
       "      <td>72</td>\n",
       "      <td>pulmonary|disorders of the airways|COPD</td>\n",
       "      <td>491.20, J44.9</td>\n",
       "      <td>Other</td>\n",
       "    </tr>\n",
       "    <tr>\n",
       "      <th>3</th>\n",
       "      <td>4103261</td>\n",
       "      <td>141168</td>\n",
       "      <td>True</td>\n",
       "      <td>118</td>\n",
       "      <td>pulmonary|disorders of the airways|COPD</td>\n",
       "      <td>491.20, J44.9</td>\n",
       "      <td>Other</td>\n",
       "    </tr>\n",
       "    <tr>\n",
       "      <th>4</th>\n",
       "      <td>3545241</td>\n",
       "      <td>141168</td>\n",
       "      <td>True</td>\n",
       "      <td>118</td>\n",
       "      <td>cardiovascular|ventricular disorders|congestiv...</td>\n",
       "      <td>428.0, I50.9</td>\n",
       "      <td>Other</td>\n",
       "    </tr>\n",
       "  </tbody>\n",
       "</table>\n",
       "</div>"
      ],
      "text/plain": [
       "   diagnosisid  patientunitstayid  activeupondischarge  diagnosisoffset  \\\n",
       "0      4222318             141168                False               72   \n",
       "1      3370568             141168                 True              118   \n",
       "2      4160941             141168                False               72   \n",
       "3      4103261             141168                 True              118   \n",
       "4      3545241             141168                 True              118   \n",
       "\n",
       "                                     diagnosisstring        icd9code  \\\n",
       "0  cardiovascular|chest pain / ASHD|coronary arte...  414.00, I25.10   \n",
       "1  cardiovascular|ventricular disorders|cardiomyo...             NaN   \n",
       "2            pulmonary|disorders of the airways|COPD   491.20, J44.9   \n",
       "3            pulmonary|disorders of the airways|COPD   491.20, J44.9   \n",
       "4  cardiovascular|ventricular disorders|congestiv...    428.0, I50.9   \n",
       "\n",
       "  diagnosispriority  \n",
       "0             Other  \n",
       "1             Other  \n",
       "2             Other  \n",
       "3             Other  \n",
       "4             Other  "
      ]
     },
     "execution_count": 143,
     "metadata": {},
     "output_type": "execute_result"
    }
   ],
   "source": [
    "# Load diagnosis data\n",
    "df_diag = pd.read_csv(diag_path, compression=\"gzip\")\n",
    "print(\"Diagnosis columns:\", df_diag.columns.tolist())\n",
    "df_diag.head()\n",
    "\n"
   ]
  },
  {
   "cell_type": "code",
   "execution_count": 144,
   "id": "3c7a1530",
   "metadata": {},
   "outputs": [
    {
     "name": "stdout",
     "output_type": "stream",
     "text": [
      "Patient columns: ['patientunitstayid', 'patienthealthsystemstayid', 'gender', 'age', 'ethnicity', 'hospitalid', 'wardid', 'apacheadmissiondx', 'admissionheight', 'hospitaladmittime24', 'hospitaladmitoffset', 'hospitaladmitsource', 'hospitaldischargeyear', 'hospitaldischargetime24', 'hospitaldischargeoffset', 'hospitaldischargelocation', 'hospitaldischargestatus', 'unittype', 'unitadmittime24', 'unitadmitsource', 'unitvisitnumber', 'unitstaytype', 'admissionweight', 'dischargeweight', 'unitdischargetime24', 'unitdischargeoffset', 'unitdischargelocation', 'unitdischargestatus', 'uniquepid']\n"
     ]
    },
    {
     "data": {
      "text/html": [
       "<div>\n",
       "<style scoped>\n",
       "    .dataframe tbody tr th:only-of-type {\n",
       "        vertical-align: middle;\n",
       "    }\n",
       "\n",
       "    .dataframe tbody tr th {\n",
       "        vertical-align: top;\n",
       "    }\n",
       "\n",
       "    .dataframe thead th {\n",
       "        text-align: right;\n",
       "    }\n",
       "</style>\n",
       "<table border=\"1\" class=\"dataframe\">\n",
       "  <thead>\n",
       "    <tr style=\"text-align: right;\">\n",
       "      <th></th>\n",
       "      <th>patientunitstayid</th>\n",
       "      <th>patienthealthsystemstayid</th>\n",
       "      <th>gender</th>\n",
       "      <th>age</th>\n",
       "      <th>ethnicity</th>\n",
       "      <th>hospitalid</th>\n",
       "      <th>wardid</th>\n",
       "      <th>apacheadmissiondx</th>\n",
       "      <th>admissionheight</th>\n",
       "      <th>hospitaladmittime24</th>\n",
       "      <th>...</th>\n",
       "      <th>unitadmitsource</th>\n",
       "      <th>unitvisitnumber</th>\n",
       "      <th>unitstaytype</th>\n",
       "      <th>admissionweight</th>\n",
       "      <th>dischargeweight</th>\n",
       "      <th>unitdischargetime24</th>\n",
       "      <th>unitdischargeoffset</th>\n",
       "      <th>unitdischargelocation</th>\n",
       "      <th>unitdischargestatus</th>\n",
       "      <th>uniquepid</th>\n",
       "    </tr>\n",
       "  </thead>\n",
       "  <tbody>\n",
       "    <tr>\n",
       "      <th>0</th>\n",
       "      <td>141168</td>\n",
       "      <td>128919</td>\n",
       "      <td>Female</td>\n",
       "      <td>70</td>\n",
       "      <td>Caucasian</td>\n",
       "      <td>59</td>\n",
       "      <td>91</td>\n",
       "      <td>Rhythm disturbance (atrial, supraventricular)</td>\n",
       "      <td>152.4</td>\n",
       "      <td>15:54:00</td>\n",
       "      <td>...</td>\n",
       "      <td>Direct Admit</td>\n",
       "      <td>1</td>\n",
       "      <td>admit</td>\n",
       "      <td>84.3</td>\n",
       "      <td>85.8</td>\n",
       "      <td>03:50:00</td>\n",
       "      <td>3596</td>\n",
       "      <td>Death</td>\n",
       "      <td>Expired</td>\n",
       "      <td>002-34851</td>\n",
       "    </tr>\n",
       "    <tr>\n",
       "      <th>1</th>\n",
       "      <td>141178</td>\n",
       "      <td>128927</td>\n",
       "      <td>Female</td>\n",
       "      <td>52</td>\n",
       "      <td>Caucasian</td>\n",
       "      <td>60</td>\n",
       "      <td>83</td>\n",
       "      <td>NaN</td>\n",
       "      <td>162.6</td>\n",
       "      <td>08:56:00</td>\n",
       "      <td>...</td>\n",
       "      <td>Emergency Department</td>\n",
       "      <td>1</td>\n",
       "      <td>admit</td>\n",
       "      <td>54.4</td>\n",
       "      <td>54.4</td>\n",
       "      <td>09:18:00</td>\n",
       "      <td>8</td>\n",
       "      <td>Step-Down Unit (SDU)</td>\n",
       "      <td>Alive</td>\n",
       "      <td>002-33870</td>\n",
       "    </tr>\n",
       "    <tr>\n",
       "      <th>2</th>\n",
       "      <td>141179</td>\n",
       "      <td>128927</td>\n",
       "      <td>Female</td>\n",
       "      <td>52</td>\n",
       "      <td>Caucasian</td>\n",
       "      <td>60</td>\n",
       "      <td>83</td>\n",
       "      <td>NaN</td>\n",
       "      <td>162.6</td>\n",
       "      <td>08:56:00</td>\n",
       "      <td>...</td>\n",
       "      <td>ICU to SDU</td>\n",
       "      <td>2</td>\n",
       "      <td>stepdown/other</td>\n",
       "      <td>NaN</td>\n",
       "      <td>60.4</td>\n",
       "      <td>19:20:00</td>\n",
       "      <td>2042</td>\n",
       "      <td>Home</td>\n",
       "      <td>Alive</td>\n",
       "      <td>002-33870</td>\n",
       "    </tr>\n",
       "    <tr>\n",
       "      <th>3</th>\n",
       "      <td>141194</td>\n",
       "      <td>128941</td>\n",
       "      <td>Male</td>\n",
       "      <td>68</td>\n",
       "      <td>Caucasian</td>\n",
       "      <td>73</td>\n",
       "      <td>92</td>\n",
       "      <td>Sepsis, renal/UTI (including bladder)</td>\n",
       "      <td>180.3</td>\n",
       "      <td>18:18:40</td>\n",
       "      <td>...</td>\n",
       "      <td>Floor</td>\n",
       "      <td>1</td>\n",
       "      <td>admit</td>\n",
       "      <td>73.9</td>\n",
       "      <td>76.7</td>\n",
       "      <td>15:31:00</td>\n",
       "      <td>4813</td>\n",
       "      <td>Floor</td>\n",
       "      <td>Alive</td>\n",
       "      <td>002-5276</td>\n",
       "    </tr>\n",
       "    <tr>\n",
       "      <th>4</th>\n",
       "      <td>141196</td>\n",
       "      <td>128943</td>\n",
       "      <td>Male</td>\n",
       "      <td>71</td>\n",
       "      <td>Caucasian</td>\n",
       "      <td>67</td>\n",
       "      <td>109</td>\n",
       "      <td>NaN</td>\n",
       "      <td>162.6</td>\n",
       "      <td>20:21:00</td>\n",
       "      <td>...</td>\n",
       "      <td>ICU to SDU</td>\n",
       "      <td>2</td>\n",
       "      <td>stepdown/other</td>\n",
       "      <td>NaN</td>\n",
       "      <td>63.2</td>\n",
       "      <td>22:23:00</td>\n",
       "      <td>1463</td>\n",
       "      <td>Floor</td>\n",
       "      <td>Alive</td>\n",
       "      <td>002-37665</td>\n",
       "    </tr>\n",
       "  </tbody>\n",
       "</table>\n",
       "<p>5 rows × 29 columns</p>\n",
       "</div>"
      ],
      "text/plain": [
       "   patientunitstayid  patienthealthsystemstayid  gender age  ethnicity  \\\n",
       "0             141168                     128919  Female  70  Caucasian   \n",
       "1             141178                     128927  Female  52  Caucasian   \n",
       "2             141179                     128927  Female  52  Caucasian   \n",
       "3             141194                     128941    Male  68  Caucasian   \n",
       "4             141196                     128943    Male  71  Caucasian   \n",
       "\n",
       "   hospitalid  wardid                              apacheadmissiondx  \\\n",
       "0          59      91  Rhythm disturbance (atrial, supraventricular)   \n",
       "1          60      83                                            NaN   \n",
       "2          60      83                                            NaN   \n",
       "3          73      92          Sepsis, renal/UTI (including bladder)   \n",
       "4          67     109                                            NaN   \n",
       "\n",
       "   admissionheight hospitaladmittime24  ...       unitadmitsource  \\\n",
       "0            152.4            15:54:00  ...          Direct Admit   \n",
       "1            162.6            08:56:00  ...  Emergency Department   \n",
       "2            162.6            08:56:00  ...            ICU to SDU   \n",
       "3            180.3            18:18:40  ...                 Floor   \n",
       "4            162.6            20:21:00  ...            ICU to SDU   \n",
       "\n",
       "  unitvisitnumber    unitstaytype admissionweight  dischargeweight  \\\n",
       "0               1           admit            84.3             85.8   \n",
       "1               1           admit            54.4             54.4   \n",
       "2               2  stepdown/other             NaN             60.4   \n",
       "3               1           admit            73.9             76.7   \n",
       "4               2  stepdown/other             NaN             63.2   \n",
       "\n",
       "  unitdischargetime24 unitdischargeoffset unitdischargelocation  \\\n",
       "0            03:50:00                3596                 Death   \n",
       "1            09:18:00                   8  Step-Down Unit (SDU)   \n",
       "2            19:20:00                2042                  Home   \n",
       "3            15:31:00                4813                 Floor   \n",
       "4            22:23:00                1463                 Floor   \n",
       "\n",
       "  unitdischargestatus  uniquepid  \n",
       "0             Expired  002-34851  \n",
       "1               Alive  002-33870  \n",
       "2               Alive  002-33870  \n",
       "3               Alive   002-5276  \n",
       "4               Alive  002-37665  \n",
       "\n",
       "[5 rows x 29 columns]"
      ]
     },
     "execution_count": 144,
     "metadata": {},
     "output_type": "execute_result"
    }
   ],
   "source": [
    "# Load patient data\n",
    "df_pat = pd.read_csv(patient_path, compression=\"gzip\")\n",
    "print(\"Patient columns:\", df_pat.columns.tolist())\n",
    "df_pat.head()\n"
   ]
  },
  {
   "cell_type": "code",
   "execution_count": 145,
   "id": "e9842036",
   "metadata": {},
   "outputs": [
    {
     "name": "stdout",
     "output_type": "stream",
     "text": [
      "Apache columns:\n",
      " ['apachepatientresultsid', 'patientunitstayid', 'physicianspeciality', 'physicianinterventioncategory', 'acutephysiologyscore', 'apachescore', 'apacheversion', 'predictedicumortality', 'actualicumortality', 'predictediculos', 'actualiculos', 'predictedhospitalmortality', 'actualhospitalmortality', 'predictedhospitallos', 'actualhospitallos', 'preopmi', 'preopcardiaccath', 'ptcawithin24h', 'unabridgedunitlos', 'unabridgedhosplos', 'actualventdays', 'predventdays', 'unabridgedactualventdays']\n",
      "\n",
      "Mortality value counts:\n",
      "actualhospitalmortality\n",
      "ALIVE      269590\n",
      "EXPIRED     27474\n",
      "Name: count, dtype: int64\n"
     ]
    }
   ],
   "source": [
    "# Load apache results (includes mortality)\n",
    "df_apache = pd.read_csv(apache_path, compression=\"gzip\")\n",
    "print(\"Apache columns:\\n\", df_apache.columns.tolist())\n",
    "\n",
    "# Check mortality values\n",
    "print(\"\\nMortality value counts:\")\n",
    "print(df_apache[\"actualhospitalmortality\"].value_counts(dropna=False))\n"
   ]
  },
  {
   "cell_type": "markdown",
   "id": "a5045b62",
   "metadata": {},
   "source": [
    "## 3. Merge Hospital or Unit Metadata\n",
    "\n",
    "\n"
   ]
  },
  {
   "cell_type": "code",
   "execution_count": 146,
   "id": "38a9c7e4",
   "metadata": {},
   "outputs": [],
   "source": [
    "# Merge: patient + apache (on patientunitstayid)\n",
    "# df = df_pat.merge(df_apache[[\"patientunitstayid\", \"actualhospitalmortality\"]], on=\"patientunitstayid\", how=\"left\")\n",
    "\n",
    "# # Merge: + diagnosis (optional, we can use priority etc)\n",
    "# df = df.merge(df_diag[[\"patientunitstayid\", \"diagnosispriority\"]], on=\"patientunitstayid\", how=\"left\")\n",
    "\n",
    "# print(\"Final merged columns:\", df.columns.tolist())\n",
    "# df.head()\n",
    "\n",
    "\n"
   ]
  },
  {
   "cell_type": "code",
   "execution_count": null,
   "id": "d031e352",
   "metadata": {},
   "outputs": [
    {
     "name": "stdout",
     "output_type": "stream",
     "text": [
      "After apache merge: (349391, 30)\n",
      "actualhospitalmortality\n",
      "ALIVE      269590\n",
      "NaN         52327\n",
      "EXPIRED     27474\n",
      "Name: count, dtype: int64\n",
      "After diagnosis merge: (5048437, 31)\n",
      "diagnosispriority\n",
      "Other      2131994\n",
      "Major      2055491\n",
      "Primary     827218\n",
      "NaN          33734\n",
      "Name: count, dtype: int64\n",
      "  diagnosispriority  diagnosispriority_encoded  mortality\n",
      "0             Other                          0          1\n",
      "1             Other                          0          1\n",
      "2             Other                          0          1\n",
      "3             Other                          0          1\n",
      "4             Other                          0          1\n",
      "Unique diagnosispriority values: ['Other' 'Primary' 'Major']\n",
      "Value counts:\n",
      "diagnosispriority\n",
      "Other      1982296\n",
      "Major      1871546\n",
      "Primary     754220\n",
      "Name: count, dtype: int64\n",
      "Final df shape: (4608062, 32)\n",
      "Final df columns: ['patientunitstayid', 'patienthealthsystemstayid', 'gender', 'age', 'ethnicity', 'hospitalid', 'wardid', 'apacheadmissiondx', 'admissionheight', 'hospitaladmittime24', 'hospitaladmitoffset', 'hospitaladmitsource', 'hospitaldischargeyear', 'hospitaldischargetime24', 'hospitaldischargeoffset', 'hospitaldischargelocation', 'hospitaldischargestatus', 'unittype', 'unitadmittime24', 'unitadmitsource', 'unitvisitnumber', 'unitstaytype', 'admissionweight', 'dischargeweight', 'unitdischargetime24', 'unitdischargeoffset', 'unitdischargelocation', 'unitdischargestatus', 'uniquepid', 'mortality', 'diagnosispriority', 'diagnosispriority_encoded']\n"
     ]
    }
   ],
   "source": [
    "# Safely merge all necessary info upfront\n",
    "# After merging:\n",
    "# Merge everything upfront (keep only patientunitstayid, mortality, diagnosispriority)\n",
    "df = df_pat.merge(\n",
    "    df_apache[[\"patientunitstayid\", \"actualhospitalmortality\"]],\n",
    "    on=\"patientunitstayid\",\n",
    "    how=\"left\"\n",
    ")\n",
    "print(\"After apache merge:\", df.shape)\n",
    "print(df[\"actualhospitalmortality\"].value_counts(dropna=False))\n",
    "\n",
    "df = df.merge(\n",
    "    df_diag[[\"patientunitstayid\", \"diagnosispriority\"]],\n",
    "    on=\"patientunitstayid\",\n",
    "    how=\"left\"\n",
    ")\n",
    "print(\"After diagnosis merge:\", df.shape)\n",
    "print(df[\"diagnosispriority\"].value_counts(dropna=False))\n",
    "\n",
    "# Drop rows where actualhospitalmortality is missing\n",
    "df = df.dropna(subset=[\"actualhospitalmortality\"])\n",
    "\n",
    "# Rename the column and convert to binary\n",
    "df.rename(columns={\"actualhospitalmortality\": \"mortality\"}, inplace=True)\n",
    "df[\"mortality\"] = df[\"mortality\"].map({\"ALIVE\": 0, \"EXPIRED\": 1})\n",
    "\n",
    "# Drop rows where mapping failed (i.e. still NaN after map)\n",
    "df = df.dropna(subset=[\"mortality\"])\n",
    "\n",
    "# Encode diagnosispriority\n",
    "df = df.dropna(subset=[\"diagnosispriority\"])  # make sure we're not encoding NaNs\n",
    "df[\"diagnosispriority_encoded\"] = pd.factorize(df[\"diagnosispriority\"])[0]\n",
    "\n",
    "# Preview\n",
    "print(df[[\"diagnosispriority\", \"diagnosispriority_encoded\", \"mortality\"]].head())\n",
    "print(\"Unique diagnosispriority values:\", df[\"diagnosispriority\"].unique())\n",
    "print(\"Value counts:\")\n",
    "print(df[\"diagnosispriority\"].value_counts())\n",
    "print(\"Final df shape:\", df.shape)\n",
    "print(\"Final df columns:\", df.columns.tolist())\n",
    "\n",
    "\n"
   ]
  },
  {
   "cell_type": "code",
   "execution_count": 148,
   "id": "185a581b",
   "metadata": {},
   "outputs": [],
   "source": [
    "# # Rename column\n",
    "# df.rename(columns={\"actualhospitalmortality\": \"mortality\"}, inplace=True)\n",
    "\n",
    "# # Convert string labels to binary (0/1)\n",
    "# df[\"mortality\"] = df[\"mortality\"].map({\"ALIVE\": 0, \"EXPIRED\": 1})\n",
    "\n",
    "# # Drop any rows where mortality couldn't be mapped (just in case)\n",
    "# df = df.dropna(subset=[\"mortality\"])\n",
    "\n",
    "# # Encode diagnosispriority\n",
    "# df[\"diagnosispriority_encoded\"] = pd.factorize(df[\"diagnosispriority\"])[0]\n",
    "\n",
    "# # Preview result\n",
    "# df[[\"diagnosispriority\", \"diagnosispriority_encoded\", \"mortality\"]].head()\n",
    "\n",
    "# print(\"Final df columns:\", df.columns.tolist())\n"
   ]
  },
  {
   "cell_type": "markdown",
   "id": "d18cddd3",
   "metadata": {},
   "source": [
    "## 4. Define Shift Dimension\n",
    "\n",
    "\n"
   ]
  },
  {
   "cell_type": "code",
   "execution_count": 149,
   "id": "8a56f3f3",
   "metadata": {},
   "outputs": [],
   "source": [
    "# Define the shift dimension\n",
    "# Shift dimension\n",
    "SHIFT_TYPE = \"inter-hospital\"  # or \"inter-unit\"\n",
    "shift_col = \"hospitalid\" if SHIFT_TYPE == \"inter-hospital\" else \"unittype\"\n",
    "\n"
   ]
  },
  {
   "cell_type": "markdown",
   "id": "f073100e",
   "metadata": {},
   "source": [
    "## 5. Select Feature to Evaluate Shift\n",
    "\n"
   ]
  },
  {
   "cell_type": "code",
   "execution_count": 150,
   "id": "464c80a3",
   "metadata": {},
   "outputs": [
    {
     "name": "stdout",
     "output_type": "stream",
     "text": [
      "mortality column unique values: [1 0]\n",
      "Number of NaNs in mortality: 0\n",
      "Length of df: 4608062\n",
      "df columns at this point: ['patientunitstayid', 'patienthealthsystemstayid', 'gender', 'age', 'ethnicity', 'hospitalid', 'wardid', 'apacheadmissiondx', 'admissionheight', 'hospitaladmittime24', 'hospitaladmitoffset', 'hospitaladmitsource', 'hospitaldischargeyear', 'hospitaldischargetime24', 'hospitaldischargeoffset', 'hospitaldischargelocation', 'hospitaldischargestatus', 'unittype', 'unitadmittime24', 'unitadmitsource', 'unitvisitnumber', 'unitstaytype', 'admissionweight', 'dischargeweight', 'unitdischargetime24', 'unitdischargeoffset', 'unitdischargelocation', 'unitdischargestatus', 'uniquepid', 'mortality', 'diagnosispriority', 'diagnosispriority_encoded']\n"
     ]
    }
   ],
   "source": [
    "# Encode categorical feature for testing\n",
    "# df = df.dropna(subset=[\"diagnosispriority\"])\n",
    "# df[\"diagnosispriority_encoded\"] = pd.factorize(df[\"diagnosispriority\"])[0]\n",
    "# feature = \"diagnosispriority_encoded\"\n",
    "\n",
    "# balanced_hospitals = []\n",
    "\n",
    "# for hosp in df[shift_col].unique():\n",
    "#     subset = df[df[shift_col] == hosp]\n",
    "#     if subset['mortality'].nunique() >= 2:\n",
    "#         balanced_hospitals.append(hosp)\n",
    "\n",
    "# print(f\"Found {len(balanced_hospitals)} hospitals with both 0 and 1 mortality\")\n",
    "\n",
    "print(\"mortality column unique values:\", df[\"mortality\"].unique())\n",
    "print(\"Number of NaNs in mortality:\", df[\"mortality\"].isna().sum())\n",
    "print(\"Length of df:\", len(df))\n",
    "\n",
    "\n",
    "print(\"df columns at this point:\", df.columns.tolist())\n"
   ]
  },
  {
   "cell_type": "code",
   "execution_count": 151,
   "id": "66c8d48e",
   "metadata": {},
   "outputs": [
    {
     "name": "stdout",
     "output_type": "stream",
     "text": [
      "               ALIVE   EXPIRED      total\n",
      "hospitalid                               \n",
      "420         978608.0  221292.0  1199900.0\n",
      "188         189070.0   28990.0   218060.0\n",
      "122         138004.0   35032.0   173036.0\n",
      "142          84820.0   32822.0   117642.0\n",
      "227          71910.0   22008.0    93918.0\n",
      "226          68412.0   18140.0    86552.0\n",
      "79           63792.0   16822.0    80614.0\n",
      "73           63062.0   14744.0    77806.0\n",
      "110          62570.0   14656.0    77226.0\n",
      "243          61276.0   15440.0    76716.0\n"
     ]
    }
   ],
   "source": [
    "# Group mortality by hospital\n",
    "mortality_counts = df.groupby(\"hospitalid\")[\"mortality\"].value_counts().unstack().fillna(0)\n",
    "mortality_counts.columns = [\"ALIVE\", \"EXPIRED\"] if 0 in mortality_counts.columns else mortality_counts.columns\n",
    "mortality_counts[\"total\"] = mortality_counts.sum(axis=1)\n",
    "\n",
    "print(mortality_counts.sort_values(\"total\", ascending=False).head(10))\n"
   ]
  },
  {
   "cell_type": "markdown",
   "id": "749943de",
   "metadata": {},
   "source": [
    "## 6. Visualize Feature Distribution by Group\n"
   ]
  },
  {
   "cell_type": "code",
   "execution_count": 152,
   "id": "aedf6315",
   "metadata": {},
   "outputs": [
    {
     "name": "stderr",
     "output_type": "stream",
     "text": [
      "/var/folders/5y/v983zg9s5mj989l04vv_c3lc0000gn/T/ipykernel_31056/1702833797.py:19: UserWarning: No artists with labels found to put in legend.  Note that artists whose label start with an underscore are ignored when legend() is called with no argument.\n",
      "  plt.legend(title=\"hospitalid\")\n"
     ]
    },
    {
     "data": {
      "image/png": "[encoded data removed]",
      "text/plain": [
       "<Figure size 1000x600 with 1 Axes>"
      ]
     },
     "metadata": {},
     "output_type": "display_data"
    }
   ],
   "source": [
    "import matplotlib.pyplot as plt\n",
    "import seaborn as sns\n",
    "\n",
    "# Use only the top 5 hospitals by patient count\n",
    "top_hospitals = df[\"hospitalid\"].value_counts().nlargest(5).index.tolist()\n",
    "subset_df = df[df[\"hospitalid\"].isin(top_hospitals)]\n",
    "\n",
    "plt.figure(figsize=(10, 6))\n",
    "sns.kdeplot(\n",
    "    data=subset_df,\n",
    "    x=\"diagnosispriority_encoded\",\n",
    "    hue=subset_df[\"hospitalid\"].astype(str),\n",
    "    common_norm=False,\n",
    "    warn_singular=False\n",
    ")\n",
    "plt.title(\"Diagnosis Priority Distribution by Hospital\")\n",
    "plt.xlabel(\"diagnosispriority_encoded\")\n",
    "plt.ylabel(\"Density\")\n",
    "plt.legend(title=\"hospitalid\")\n",
    "plt.show()\n",
    "\n",
    "\n"
   ]
  },
  {
   "cell_type": "markdown",
   "id": "653bd3fa",
   "metadata": {},
   "source": [
    "## 7. Perform KS Test Between Two Groups\n",
    "\n",
    "A low p-value (e.g., < 0.05) indicates significant distribution shift.\n"
   ]
  },
  {
   "cell_type": "code",
   "execution_count": null,
   "id": "3ef260be",
   "metadata": {},
   "outputs": [
    {
     "name": "stdout",
     "output_type": "stream",
     "text": [
      "KS test between hospital 420 and 188:\n",
      "  KS Statistic: 0.2228\n",
      "  P-value: 0.0000\n"
     ]
    }
   ],
   "source": [
    "from scipy.stats import ks_2samp\n",
    "\n",
    "# Get two most frequent hospitals\n",
    "top_two = df[\"hospitalid\"].value_counts().nlargest(2).index.tolist()\n",
    "\n",
    "# Extract encoded diagnosis values\n",
    "group1 = df[df[\"hospitalid\"] == top_two[0]][\"diagnosispriority_encoded\"].dropna()\n",
    "group2 = df[df[\"hospitalid\"] == top_two[1]][\"diagnosispriority_encoded\"].dropna()\n",
    "\n",
    "# Run KS test\n",
    "stat, p_value = ks_2samp(group1, group2)\n",
    "print(f\"KS test between hospital {top_two[0]} and {top_two[1]}:\")\n",
    "print(f\"  KS Statistic: {stat:.4f}\")\n",
    "print(f\"  P-value: {p_value:.4f}\")\n"
   ]
  },
  {
   "cell_type": "markdown",
   "id": "2087278f",
   "metadata": {},
   "source": [
    "## 8. Save Train/Test Cohort Splits\n",
    "\n"
   ]
  },
  {
   "cell_type": "code",
   "execution_count": null,
   "id": "a4a98f65",
   "metadata": {},
   "outputs": [
    {
     "name": "stdout",
     "output_type": "stream",
     "text": [
      "Train cohort shape: (1199900, 32)\n",
      "Test cohort shape: (218060, 32)\n"
     ]
    }
   ],
   "source": [
    "\n",
    "from pathlib import Path\n",
    "\n",
    "# Define the train/test cohorts based on top 2 hospitals\n",
    "train_df = df[df[\"hospitalid\"] == top_two[0]].copy()\n",
    "test_df = df[df[\"hospitalid\"] == top_two[1]].copy()\n",
    "\n",
    "# Confirm shape and saving full cohorts\n",
    "print(f\"Train cohort shape: {train_df.shape}\")\n",
    "print(f\"Test cohort shape: {test_df.shape}\")\n",
    "\n",
    "Path(\"cohorts\").mkdir(exist_ok=True)\n",
    "train_df.to_csv(\"cohorts/train.csv\", index=False)\n",
    "test_df.to_csv(\"cohorts/test.csv\", index=False)\n",
    "\n",
    "# Sampling 500\n",
    "if len(train_df) >= 500 and len(test_df) >= 500:\n",
    "    sample_train = train_df.sample(n=500, random_state=42)\n",
    "    sample_test = test_df.sample(n=500, random_state=42)\n",
    "else:\n",
    "    sample_train = train_df\n",
    "    sample_test = test_df\n",
    "    print(\"Not enough data to sample 500. Using full sets.\")\n",
    "\n",
    "# Save sample cohorts\n",
    "sample_train.to_csv(\"cohorts/train_inter_sample.csv\", index=False)\n",
    "sample_test.to_csv(\"cohorts/test_inter_sample.csv\", index=False)\n"
   ]
  },
  {
   "cell_type": "markdown",
   "id": "3298f497",
   "metadata": {},
   "source": [
    "making sample of 500"
   ]
  },
  {
   "cell_type": "code",
   "execution_count": 161,
   "id": "ad43431a",
   "metadata": {},
   "outputs": [
    {
     "name": "stderr",
     "output_type": "stream",
     "text": [
      "/var/folders/5y/v983zg9s5mj989l04vv_c3lc0000gn/T/ipykernel_31056/2231831008.py:4: DtypeWarning: Columns (3) have mixed types. Specify dtype option on import or set low_memory=False.\n",
      "  df_train = pd.read_csv(\"cohorts/train.csv\").merge(df_apache, on=\"patientunitstayid\", how=\"left\")\n"
     ]
    }
   ],
   "source": [
    "# Re-load the sample cohorts\n",
    "df_apache = pd.read_csv(apache_path, compression=\"gzip\")[[\"patientunitstayid\", \"actualhospitalmortality\"]]\n",
    "\n",
    "df_train = pd.read_csv(\"cohorts/train.csv\").merge(df_apache, on=\"patientunitstayid\", how=\"left\")\n",
    "df_test = pd.read_csv(\"cohorts/test.csv\").merge(df_apache, on=\"patientunitstayid\", how=\"left\")\n",
    "\n"
   ]
  },
  {
   "cell_type": "markdown",
   "id": "c455d17b",
   "metadata": {},
   "source": [
    "logistic regression"
   ]
  },
  {
   "cell_type": "code",
   "execution_count": null,
   "id": "0d52b64f",
   "metadata": {},
   "outputs": [
    {
     "name": "stdout",
     "output_type": "stream",
     "text": [
      "Confusion Matrix:\n",
      "[[378140      0]\n",
      " [ 57980      0]]\n",
      "\n",
      "Classification Report:\n",
      "              precision    recall  f1-score   support\n",
      "\n",
      "           0       0.87      1.00      0.93    378140\n",
      "           1       0.00      0.00      0.00     57980\n",
      "\n",
      "    accuracy                           0.87    436120\n",
      "   macro avg       0.43      0.50      0.46    436120\n",
      "weighted avg       0.75      0.87      0.81    436120\n",
      "\n"
     ]
    },
    {
     "name": "stderr",
     "output_type": "stream",
     "text": [
      "/Users/annabelsimpson/anaconda3/envs/eicu-env/lib/python3.10/site-packages/sklearn/metrics/_classification.py:1706: UndefinedMetricWarning: Precision is ill-defined and being set to 0.0 in labels with no predicted samples. Use `zero_division` parameter to control this behavior.\n",
      "  _warn_prf(average, modifier, f\"{metric.capitalize()} is\", result.shape[0])\n",
      "/Users/annabelsimpson/anaconda3/envs/eicu-env/lib/python3.10/site-packages/sklearn/metrics/_classification.py:1706: UndefinedMetricWarning: Precision is ill-defined and being set to 0.0 in labels with no predicted samples. Use `zero_division` parameter to control this behavior.\n",
      "  _warn_prf(average, modifier, f\"{metric.capitalize()} is\", result.shape[0])\n",
      "/Users/annabelsimpson/anaconda3/envs/eicu-env/lib/python3.10/site-packages/sklearn/metrics/_classification.py:1706: UndefinedMetricWarning: Precision is ill-defined and being set to 0.0 in labels with no predicted samples. Use `zero_division` parameter to control this behavior.\n",
      "  _warn_prf(average, modifier, f\"{metric.capitalize()} is\", result.shape[0])\n"
     ]
    }
   ],
   "source": [
    "from sklearn.linear_model import LogisticRegression\n",
    "from sklearn.metrics import classification_report, confusion_matrix\n",
    "from sklearn.preprocessing import StandardScaler\n",
    "from sklearn.model_selection import train_test_split\n",
    "\n",
    "# Select features and labels\n",
    "X_train = df_train[[\"diagnosispriority_encoded\"]]\n",
    "y_train = df_train[\"mortality\"]\n",
    "\n",
    "X_test = df_test[[\"diagnosispriority_encoded\"]]\n",
    "y_test = df_test[\"mortality\"]\n",
    "\n",
    "# Scale features (not strictly needed with one column, but good practice)\n",
    "scaler = StandardScaler()\n",
    "X_train_scaled = scaler.fit_transform(X_train)\n",
    "X_test_scaled = scaler.transform(X_test)\n",
    "\n",
    "# Train Logistic Regression model\n",
    "clf = LogisticRegression()\n",
    "clf.fit(X_train_scaled, y_train)\n",
    "\n",
    "# Make predictions\n",
    "y_pred = clf.predict(X_test_scaled)\n",
    "\n",
    "# Evaluate model\n",
    "print(\"Confusion Matrix:\")\n",
    "print(confusion_matrix(y_test, y_pred))\n",
    "\n",
    "print(\"\\nClassification Report:\")\n",
    "print(classification_report(y_test, y_pred))\n",
    "\n"
   ]
  },
  {
   "cell_type": "markdown",
   "id": "5bd3e022",
   "metadata": {},
   "source": []
  }
 ],
 "metadata": {
  "kernelspec": {
   "display_name": "eicu-env",
   "language": "python",
   "name": "python3"
  },
  "language_info": {
   "codemirror_mode": {
    "name": "ipython",
    "version": 3
   },
   "file_extension": ".py",
   "mimetype": "text/x-python",
   "name": "python",
   "nbconvert_exporter": "python",
   "pygments_lexer": "ipython3",
   "version": "3.10.18"
  }
 },
 "nbformat": 4,
 "nbformat_minor": 5
}
